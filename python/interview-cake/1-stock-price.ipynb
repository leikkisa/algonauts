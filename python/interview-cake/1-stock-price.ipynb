{
 "cells": [
  {
   "cell_type": "code",
   "execution_count": 5,
   "metadata": {},
   "outputs": [
    {
     "data": {
      "text/plain": [
       "6"
      ]
     },
     "execution_count": 5,
     "metadata": {},
     "output_type": "execute_result"
    }
   ],
   "source": [
    "# https://www.interviewcake.com/question/python/stock-price\n",
    "# Opening time 9:30 AM\n",
    "stock_prices_yesterday = [10, 7, 5, 8, 11, 9]\n",
    "\n",
    "# Pseudocode\n",
    "# for each price, get difference between current price and max of remaining prices, if value is greater than past difference, replace value\n",
    "\n",
    "def get_max_profit(stock_prices):\n",
    "    maxProfit = 0\n",
    "    i = 0\n",
    "    while i < len(stock_prices) - 1:\n",
    "        maxProfit = max(maxProfit, max(stock_prices[i+1:])- stock_prices[i])\n",
    "        i += 1\n",
    "    return maxProfit\n",
    "\n",
    "get_max_profit(stock_prices_yesterday) #returns 6, buy for 5 and sell for 11"
   ]
  },
  {
   "cell_type": "code",
   "execution_count": 6,
   "metadata": {},
   "outputs": [
    {
     "data": {
      "text/plain": [
       "6"
      ]
     },
     "execution_count": 6,
     "metadata": {},
     "output_type": "execute_result"
    }
   ],
   "source": [
    "def get_max_profit2(stock_prices):\n",
    "    if len(stock_prices) < 2:\n",
    "        raise IndexError('Getting a profit requires at least 2 prices.')\n",
    "    min_price = stock_prices[0]\n",
    "    max_profit = stock_prices[1] - stock_prices[0]\n",
    "    maxProfit = 0\n",
    "\n",
    "    for index, current_price in enumerate(stock_prices_yesterday):\n",
    "        if index == 0:\n",
    "            continue\n",
    "        potential_profit = current_price - min_price\n",
    "        max_profit = max(max_profit, potential_profit)\n",
    "        min_price = min(min_price, current_price)\n",
    "    return max_profit\n",
    "get_max_profit2(stock_prices_yesterday)"
   ]
  },
  {
   "cell_type": "code",
   "execution_count": null,
   "metadata": {
    "collapsed": true
   },
   "outputs": [],
   "source": []
  }
 ],
 "metadata": {
  "kernelspec": {
   "display_name": "Python 3",
   "language": "python",
   "name": "python3"
  },
  "language_info": {
   "codemirror_mode": {
    "name": "ipython",
    "version": 3
   },
   "file_extension": ".py",
   "mimetype": "text/x-python",
   "name": "python",
   "nbconvert_exporter": "python",
   "pygments_lexer": "ipython3",
   "version": "3.6.1"
  }
 },
 "nbformat": 4,
 "nbformat_minor": 2
}
